{
 "cells": [
  {
   "cell_type": "markdown",
   "metadata": {},
   "source": [
    "# Numpy Basics"
   ]
  },
  {
   "cell_type": "code",
   "execution_count": 1,
   "metadata": {},
   "outputs": [],
   "source": [
    "# Most commonly used library for Data Science\n",
    "# NUMerical PYthon\n",
    "# Used for scientific omputing and data analysis\n",
    "\n",
    "#Basic numpy object: ndarray i.e. n-dimensional Array \n",
    "# this is homogeneous array i.e. it contains elements with same datatype\n",
    "\n",
    "#Why Numpy\n",
    "    # Fast. Programmed in C. Parallel operations\n",
    "    # Convenient"
   ]
  },
  {
   "cell_type": "code",
   "execution_count": 2,
   "metadata": {},
   "outputs": [
    {
     "name": "stdout",
     "output_type": "stream",
     "text": [
      "[1 2 3]\n",
      "[[1 2 3]\n",
      " [4 5 6]]\n",
      "a.shape:: (3,)\n",
      "b.shape:: (2, 3)\n",
      "b.dtype:: int32\n",
      "no. of rows:: b.ndim:: 2\n",
      "type(a):: <class 'numpy.ndarray'>\n",
      "np.arange(10):: [0 1 2 3 4 5 6 7 8 9]\n"
     ]
    }
   ],
   "source": [
    "import numpy as np\n",
    "\n",
    "#Single dim array\n",
    "a = np.array([1,2,3])\n",
    "print(a)\n",
    "\n",
    "#2-dim array\n",
    "b = np.array([[1,2,3], [4,5,6]])\n",
    "print(b)\n",
    "\n",
    "#dimensions of array\n",
    "print(\"a.shape::\",a.shape)\n",
    "print(\"b.shape::\",b.shape)\n",
    "\n",
    "#checking data type of elements in array\n",
    "print(\"b.dtype::\", b.dtype)\n",
    "\n",
    "#Number of rows present in array\n",
    "print(\"no. of rows:: b.ndim::\",b.ndim)\n",
    "\n",
    "print(\"type(a)::\", type(a))\n",
    "\n",
    "#arange function. similar to range in python\n",
    "print(\"np.arange(10)::\", np.arange(10))"
   ]
  },
  {
   "cell_type": "code",
   "execution_count": 3,
   "metadata": {},
   "outputs": [
    {
     "name": "stdout",
     "output_type": "stream",
     "text": [
      "5.53 ms ± 56.7 µs per loop (mean ± std. dev. of 7 runs, 100 loops each)\n",
      "26.5 µs ± 395 ns per loop (mean ± std. dev. of 7 runs, 10000 loops each)\n"
     ]
    }
   ],
   "source": [
    "# Speed Test 1 for numpy\n",
    "\n",
    "#for Python list\n",
    "c = range(10000)\n",
    "\n",
    "%timeit [ i ** 3 for i in c]\n",
    "\n",
    "#for numpy array\n",
    "np_c = np.arange(10000)\n",
    "%timeit np_c ** 3"
   ]
  },
  {
   "cell_type": "code",
   "execution_count": 4,
   "metadata": {},
   "outputs": [
    {
     "name": "stdout",
     "output_type": "stream",
     "text": [
      "1.71 ms ± 6.08 µs per loop (mean ± std. dev. of 7 runs, 1000 loops each)\n",
      "9.35 µs ± 138 ns per loop (mean ± std. dev. of 7 runs, 100000 loops each)\n"
     ]
    }
   ],
   "source": [
    "# Speed Test 2 for numpy\n",
    "\n",
    "#for Python list\n",
    "l1 = range(10000)\n",
    "l2 = [i **2 for i in range(10000)]\n",
    "\n",
    "%timeit list(map(lambda x,y : x * y, l1, l2))\n",
    "\n",
    "\n",
    "#for numpy array\n",
    "np_c1 = np.array(l1)\n",
    "np_c2 = np.array(l2)\n",
    "%timeit np_c1 * np_c2"
   ]
  },
  {
   "cell_type": "code",
   "execution_count": 5,
   "metadata": {},
   "outputs": [
    {
     "data": {
      "text/plain": [
       "array([ 2,  3,  4,  5,  6,  7,  8,  9, 10, 11, 12, 13])"
      ]
     },
     "execution_count": 5,
     "metadata": {},
     "output_type": "execute_result"
    }
   ],
   "source": [
    "#np arange usage with starting element upto last element-1\n",
    "np.arange(2,14)"
   ]
  },
  {
   "cell_type": "code",
   "execution_count": 6,
   "metadata": {},
   "outputs": [
    {
     "data": {
      "text/plain": [
       "array([ 2,  5,  8, 11])"
      ]
     },
     "execution_count": 6,
     "metadata": {},
     "output_type": "execute_result"
    }
   ],
   "source": [
    "#np arange usage with starting element and increment step\n",
    "\n",
    "np.arange(2,14,3)"
   ]
  },
  {
   "cell_type": "code",
   "execution_count": 7,
   "metadata": {},
   "outputs": [
    {
     "data": {
      "text/plain": [
       "array([[0., 0.],\n",
       "       [0., 0.],\n",
       "       [0., 0.]])"
      ]
     },
     "execution_count": 7,
     "metadata": {},
     "output_type": "execute_result"
    }
   ],
   "source": [
    "#Array with 0\n",
    "np.zeros((3,2))"
   ]
  },
  {
   "cell_type": "code",
   "execution_count": 8,
   "metadata": {},
   "outputs": [
    {
     "data": {
      "text/plain": [
       "array([[1., 1., 1., 1.],\n",
       "       [1., 1., 1., 1.],\n",
       "       [1., 1., 1., 1.]])"
      ]
     },
     "execution_count": 8,
     "metadata": {},
     "output_type": "execute_result"
    }
   ],
   "source": [
    "#Array with 1\n",
    "np.ones((3,4))"
   ]
  },
  {
   "cell_type": "code",
   "execution_count": 9,
   "metadata": {},
   "outputs": [
    {
     "data": {
      "text/plain": [
       "array([[1., 0., 0.],\n",
       "       [0., 1., 0.],\n",
       "       [0., 0., 1.]])"
      ]
     },
     "execution_count": 9,
     "metadata": {},
     "output_type": "execute_result"
    }
   ],
   "source": [
    "#Identity matrix. i.e. matrix with all diagonal elements are 1 and others are 0\n",
    "\n",
    "np.eye(3)"
   ]
  },
  {
   "cell_type": "code",
   "execution_count": 10,
   "metadata": {},
   "outputs": [
    {
     "data": {
      "text/plain": [
       "array([[4.4, 4.4, 4.4],\n",
       "       [4.4, 4.4, 4.4]])"
      ]
     },
     "execution_count": 10,
     "metadata": {},
     "output_type": "execute_result"
    }
   ],
   "source": [
    "# Full array fill with number\n",
    "np.full((2,3), 4.4)"
   ]
  },
  {
   "cell_type": "code",
   "execution_count": 11,
   "metadata": {},
   "outputs": [
    {
     "data": {
      "text/plain": [
       "array([[4, 4, 4],\n",
       "       [4, 4, 4]])"
      ]
     },
     "execution_count": 11,
     "metadata": {},
     "output_type": "execute_result"
    }
   ],
   "source": [
    "#Full array fill with decimal number with type specified\n",
    "np.full((2,3), 4.4, dtype=np.int)"
   ]
  },
  {
   "cell_type": "code",
   "execution_count": 12,
   "metadata": {},
   "outputs": [
    {
     "data": {
      "text/plain": [
       "array([[1, 0, 0, 0, 0],\n",
       "       [0, 2, 0, 0, 0],\n",
       "       [0, 0, 3, 0, 0],\n",
       "       [0, 0, 0, 4, 0],\n",
       "       [0, 0, 0, 0, 5]])"
      ]
     },
     "execution_count": 12,
     "metadata": {},
     "output_type": "execute_result"
    }
   ],
   "source": [
    "#fill all diagonal entries with numbers specified\n",
    "np.diag([1,2,3,4,5])"
   ]
  },
  {
   "cell_type": "code",
   "execution_count": 5,
   "metadata": {},
   "outputs": [
    {
     "name": "stdout",
     "output_type": "stream",
     "text": [
      "np.tile(v, (3, 1))\n",
      " [[1 2 4]\n",
      " [1 2 4]\n",
      " [1 2 4]]\n",
      "\n",
      "np.tile(v, (3,2))\n",
      " [[1 2 4 1 2 4]\n",
      " [1 2 4 1 2 4]\n",
      " [1 2 4 1 2 4]]\n"
     ]
    }
   ],
   "source": [
    "#Tile Function. duplicates a row in array\n",
    "v = np.array([1,2,4])\n",
    "print(\"np.tile(v, (3, 1))\\n\", np.tile(v, (3, 1)))\n",
    "\n",
    "print(\"\\nnp.tile(v, (3,2))\\n\",np.tile(v, (3,2)))"
   ]
  },
  {
   "cell_type": "code",
   "execution_count": 14,
   "metadata": {},
   "outputs": [
    {
     "name": "stdout",
     "output_type": "stream",
     "text": [
      "0.31054787544871143\n",
      "Random number from 2 to 50:: 22.871015397748298\n",
      "Random int from 2 to 50:: 0\n",
      "[[0.2961001  0.48866508 0.69887019]\n",
      " [0.79017563 0.43630046 0.33328964]\n",
      " [0.03013496 0.24082    0.44245725]]\n"
     ]
    }
   ],
   "source": [
    "# Random number generation\n",
    "print(np.random.random())\n",
    "\n",
    "print(\"Random number from 2 to 50::\", np.random.random() * 50 + 2)\n",
    "print(\"Random int from 2 to 50::\", np.random.randint(50) )\n",
    "\n",
    "#array with random numbers\n",
    "randomArr = np.random.random([3,3])\n",
    "print(randomArr)\n"
   ]
  },
  {
   "cell_type": "code",
   "execution_count": 15,
   "metadata": {},
   "outputs": [
    {
     "name": "stdout",
     "output_type": "stream",
     "text": [
      "[ 0.          0.50505051  1.01010101  1.51515152  2.02020202  2.52525253\n",
      "  3.03030303  3.53535354  4.04040404  4.54545455  5.05050505  5.55555556\n",
      "  6.06060606  6.56565657  7.07070707  7.57575758  8.08080808  8.58585859\n",
      "  9.09090909  9.5959596  10.1010101  10.60606061 11.11111111 11.61616162\n",
      " 12.12121212 12.62626263 13.13131313 13.63636364 14.14141414 14.64646465\n",
      " 15.15151515 15.65656566 16.16161616 16.66666667 17.17171717 17.67676768\n",
      " 18.18181818 18.68686869 19.19191919 19.6969697  20.2020202  20.70707071\n",
      " 21.21212121 21.71717172 22.22222222 22.72727273 23.23232323 23.73737374\n",
      " 24.24242424 24.74747475 25.25252525 25.75757576 26.26262626 26.76767677\n",
      " 27.27272727 27.77777778 28.28282828 28.78787879 29.29292929 29.7979798\n",
      " 30.3030303  30.80808081 31.31313131 31.81818182 32.32323232 32.82828283\n",
      " 33.33333333 33.83838384 34.34343434 34.84848485 35.35353535 35.85858586\n",
      " 36.36363636 36.86868687 37.37373737 37.87878788 38.38383838 38.88888889\n",
      " 39.39393939 39.8989899  40.4040404  40.90909091 41.41414141 41.91919192\n",
      " 42.42424242 42.92929293 43.43434343 43.93939394 44.44444444 44.94949495\n",
      " 45.45454545 45.95959596 46.46464646 46.96969697 47.47474747 47.97979798\n",
      " 48.48484848 48.98989899 49.49494949 50.        ]\n",
      "a.itemsize::: 8\n"
     ]
    }
   ],
   "source": [
    "#linspace function. gives numbers in specified range in equal intervals.\n",
    "#Similar to seq function in R.\n",
    "a = np.linspace(0,50, 100)\n",
    "print(a)\n",
    "\n",
    "#size of np array\n",
    "print(\"a.itemsize:::\",a.itemsize)"
   ]
  },
  {
   "cell_type": "code",
   "execution_count": 16,
   "metadata": {},
   "outputs": [
    {
     "data": {
      "text/plain": [
       "array([[[ 0,  1,  2],\n",
       "        [ 3,  4,  5],\n",
       "        [ 6,  7,  8]],\n",
       "\n",
       "       [[ 9, 10, 11],\n",
       "        [12, 13, 14],\n",
       "        [15, 16, 17]]])"
      ]
     },
     "execution_count": 16,
     "metadata": {},
     "output_type": "execute_result"
    }
   ],
   "source": [
    "# using arange function to create multi-dimensional array\n",
    "np.arange(18).reshape(2,3,3)"
   ]
  },
  {
   "cell_type": "code",
   "execution_count": 17,
   "metadata": {},
   "outputs": [
    {
     "data": {
      "text/plain": [
       "array([[[ 0,  1,  2],\n",
       "        [ 3,  4,  5],\n",
       "        [ 6,  7,  8]],\n",
       "\n",
       "       [[ 9, 10, 11],\n",
       "        [12, 13, 14],\n",
       "        [15, 16, 17]]])"
      ]
     },
     "execution_count": 17,
     "metadata": {},
     "output_type": "execute_result"
    }
   ],
   "source": [
    "#if you dont want to do any calculation to compute column numbers, just put -1. np will adjust dimensions automatically\n",
    "np.arange(18).reshape(2,3, -1)"
   ]
  },
  {
   "cell_type": "code",
   "execution_count": 3,
   "metadata": {},
   "outputs": [
    {
     "name": "stdout",
     "output_type": "stream",
     "text": [
      "a[0]:: 2\n",
      "a[3]:: 8\n",
      "a[[2,4,6]]:: [ 6 10 14]\n",
      "a[3:]:: [ 8 10 12 14 16 18]\n",
      "a[3:7]:: [ 8 10 12 14]\n",
      "a[3:11]:: [ 8 10 12 14 16 18]\n",
      "a[0::2]:: [ 2  6 10 14 18]\n",
      "np.arange(9).reshape(3,3)\n",
      " [[0 1 2]\n",
      " [3 4 5]\n",
      " [6 7 8]]\n",
      "b[1][2]:: 5\n",
      "b[1,2]:: 5\n"
     ]
    },
    {
     "data": {
      "text/plain": [
       "array([3, 4])"
      ]
     },
     "execution_count": 3,
     "metadata": {},
     "output_type": "execute_result"
    }
   ],
   "source": [
    "#accessing elements in numpy array\n",
    "a = np.array([2,4,6,8,10,12,14,16,18])\n",
    "\n",
    "print(\"a[0]::\", a[0])\n",
    "print(\"a[3]::\", a[3])\n",
    "print(\"a[[2,4,6]]::\", a[[2,4,6]])\n",
    "\n",
    "#subsetting array\n",
    "print(\"a[3:]::\", a[3:])\n",
    "print(\"a[3:7]::\", a[3:7])\n",
    "print(\"a[3:11]::\", a[3:11])  #giving index more than actual elements, will not throw error\n",
    "print(\"a[0::2]::\", a[0::2])\n",
    "\n",
    "\n",
    "#accessing elements in multi dim array\n",
    "b = np.arange(9).reshape(3,3)\n",
    "print(\"np.arange(9).reshape(3,3)\\n\", b)\n",
    "print(\"b[1][2]::\", b[1][2])\n",
    "print(\"b[1,2]::\", b[1,2])\n",
    "\n",
    "#filtering on array\n",
    "b > 2\n",
    "\n",
    "b[(b > 2) & (b < 5)]"
   ]
  },
  {
   "cell_type": "code",
   "execution_count": 19,
   "metadata": {},
   "outputs": [
    {
     "name": "stdout",
     "output_type": "stream",
     "text": [
      "c:: [0 1 2 3 4 5 6 7 8 9]\n",
      "d:: [0 1 2 3 4 5 6 7 8 9]\n",
      "updated c:: [12  1  2  3  4  5  6  7  8  9]\n",
      "updated d:: [12  1  2  3  4  5  6  7  8  9]\n",
      "e:: [12  1  2  3  4  5  6  7  8  9]\n",
      "np.shares_memory(c,d):: True\n",
      "np.shares_memory(c,e):: False\n"
     ]
    }
   ],
   "source": [
    "# numpy arrays are mutable\n",
    "c = np.arange(10)\n",
    "d = c\n",
    "print(\"c::\",c)\n",
    "print(\"d::\", d)\n",
    "c[0] = 12\n",
    "print(\"updated c::\",c)\n",
    "print(\"updated d::\", d)\n",
    "\n",
    "#to avoid such situation, use copy of numpy array\n",
    "e = c.copy()\n",
    "c[2] = 45\n",
    "print(\"e::\", e)\n",
    "\n",
    "#check memory locations same or not??\n",
    "print(\"np.shares_memory(c,d)::\",np.shares_memory(c,d))\n",
    "print(\"np.shares_memory(c,e)::\",np.shares_memory(c,e))"
   ]
  },
  {
   "cell_type": "code",
   "execution_count": 20,
   "metadata": {},
   "outputs": [
    {
     "name": "stdout",
     "output_type": "stream",
     "text": [
      "[[1 2 3]\n",
      " [4 5 6]]\n",
      "f.T::\n",
      " [[1 4]\n",
      " [2 5]\n",
      " [3 6]]\n"
     ]
    }
   ],
   "source": [
    "#Transpose of array (Matrix)\n",
    "f = np.array([[1,2,3], [4,5,6]])\n",
    "print(f)\n",
    "\n",
    "print(\"f.T::\\n\", f.T)"
   ]
  },
  {
   "cell_type": "code",
   "execution_count": 21,
   "metadata": {},
   "outputs": [
    {
     "name": "stdout",
     "output_type": "stream",
     "text": [
      "np.vstack((f, g)) ::: \n",
      " [[ 1  2  3]\n",
      " [ 4  5  6]\n",
      " [ 7  8  9]\n",
      " [10 11 12]]\n",
      "np.hstack((f, g)) ::: \n",
      " [[ 1  2  3  7  8  9]\n",
      " [ 4  5  6 10 11 12]]\n"
     ]
    }
   ],
   "source": [
    "# Stacking numpy arrays\n",
    "g = np.array([[7,8,9], [10,11,12]])\n",
    "\n",
    "#Vertical Stack\n",
    "print(\"np.vstack((f, g)) ::: \\n\", np.vstack((f, g))) \n",
    "\n",
    "#Horizontal Stack\n",
    "print(\"np.hstack((f, g)) ::: \\n\", np.hstack((f, g))) \n",
    "\n"
   ]
  },
  {
   "cell_type": "code",
   "execution_count": 22,
   "metadata": {},
   "outputs": [
    {
     "name": "stdout",
     "output_type": "stream",
     "text": [
      "h:: [1 2 3 4 5 6 7 8 9]\n",
      "np.sin(h)::  [ 0.84147098  0.90929743  0.14112001 -0.7568025  -0.95892427 -0.2794155\n",
      "  0.6569866   0.98935825  0.41211849]\n",
      "np.cos(h)::  [ 0.54030231 -0.41614684 -0.9899925  -0.65364362  0.28366219  0.96017029\n",
      "  0.75390225 -0.14550003 -0.91113026]\n",
      "np.exp(h)::  [2.71828183e+00 7.38905610e+00 2.00855369e+01 5.45981500e+01\n",
      " 1.48413159e+02 4.03428793e+02 1.09663316e+03 2.98095799e+03\n",
      " 8.10308393e+03]\n",
      "np.sum(h)::  45\n",
      "np.median(h)::  5.0\n",
      "h.std()::  2.581988897471611\n",
      "i:: [[1 2 3]\n",
      " [4 5 6]\n",
      " [7 8 9]]\n",
      "np.linalg.det(i)::  6.66133814775094e-16\n",
      "i.sum(axis = 0)::  [12 15 18]\n",
      "i.sum(axis = 1)::  [ 6 15 24]\n",
      "np.linalg.inv(i)::  [[-4.50359963e+15  9.00719925e+15 -4.50359963e+15]\n",
      " [ 9.00719925e+15 -1.80143985e+16  9.00719925e+15]\n",
      " [-4.50359963e+15  9.00719925e+15 -4.50359963e+15]]\n",
      "np.linalg.eig(i)::  (array([ 1.61168440e+01, -1.11684397e+00, -1.30367773e-15]), array([[-0.23197069, -0.78583024,  0.40824829],\n",
      "       [-0.52532209, -0.08675134, -0.81649658],\n",
      "       [-0.8186735 ,  0.61232756,  0.40824829]]))\n",
      "j:: [[1 4 7]\n",
      " [2 5 8]\n",
      " [3 6 9]]\n",
      "np.dot(i,j):: [[ 14  32  50]\n",
      " [ 32  77 122]\n",
      " [ 50 122 194]]\n",
      "i.max():: 9\n",
      "i.argmax():: 8\n",
      "Ascending Orser :: np.sort(h) :: [1 2 3 4 5 6 7 8 9]\n",
      "DEscending Order:: np.sort(h)[ ::-1]::, [9 8 7 6 5 4 3 2 1]\n"
     ]
    }
   ],
   "source": [
    "#numerical operations using numpy arrays\n",
    "h = np.arange(1,10)\n",
    "print(\"h::\", h)\n",
    "\n",
    "#sine operation\n",
    "print(\"np.sin(h):: \",np.sin(h))\n",
    "\n",
    "#cosine operation\n",
    "print(\"np.cos(h):: \",np.cos(h))\n",
    "\n",
    "#exponential function i.e. e^n\n",
    "print(\"np.exp(h):: \",np.exp(h))\n",
    "\n",
    "#sum of all numbers in array\n",
    "print(\"np.sum(h):: \",np.sum(h))\n",
    "\n",
    "#median of all numbers in array\n",
    "print(\"np.median(h):: \",np.median(h))\n",
    "\n",
    "#standard Deviation\n",
    "print(\"h.std():: \", h.std())\n",
    "\n",
    "#Determinent of matrix\n",
    "i = np.arange(1, 10).reshape((3,3))\n",
    "print(\"i::\", i)\n",
    "print(\"np.linalg.det(i):: \", np.linalg.det(i))\n",
    "\n",
    "#linalg stands for Linear Algebra\n",
    "\n",
    "#Column wise sum \n",
    "print(\"i.sum(axis = 0):: \", i.sum(axis = 0))\n",
    "\n",
    "#Row wise sum \n",
    "print(\"i.sum(axis = 1):: \", i.sum(axis = 1))\n",
    "\n",
    "#Inverse of matrix\n",
    "print(\"np.linalg.inv(i):: \", np.linalg.inv(i))\n",
    "\n",
    "#Eigen values of matrix\n",
    "print(\"np.linalg.eig(i):: \", np.linalg.eig(i))\n",
    "\n",
    "#Transpose matrix\n",
    "j = i.T\n",
    "print(\"j::\", j)\n",
    "\n",
    "#Dot product of Matric\n",
    "print(\"np.dot(i,j)::\", np.dot(i,j))\n",
    "\n",
    "#Max value \n",
    "print(\"i.max()::\", i.max())\n",
    "print(\"i.argmax()::\", i.argmax())\n",
    "\n",
    "#Sorting numpy array\n",
    "print(\"Ascending Orser :: np.sort(h) ::\", np.sort(h))\n",
    "\n",
    "print(\"DEscending Order:: np.sort(h)[ ::-1]::,\", np.sort(h)[::-1])\n",
    "\n"
   ]
  },
  {
   "cell_type": "code",
   "execution_count": 23,
   "metadata": {},
   "outputs": [
    {
     "name": "stdout",
     "output_type": "stream",
     "text": [
      "np.logical_or(b1, b2):: [ True  True  True]\n",
      "np.logical_and(b1, b2):: [ True False False]\n",
      "b1 == b2:: [ True  True  True]\n",
      "np.all(b1 == b1):: True\n"
     ]
    }
   ],
   "source": [
    "#specify data types while creating arrays\n",
    "b1 = np.array([1,0,1], dtype = bool)\n",
    "b2 = np.array([1,1,0], dtype = bool)\n",
    "\n",
    "print(\"np.logical_or(b1, b2)::\", np.logical_or(b1, b2))\n",
    "print(\"np.logical_and(b1, b2)::\", np.logical_and(b1, b2))\n",
    "print(\"b1 == b2::\", b1 == b1)\n",
    "print(\"np.all(b1 == b1)::\", np.all(b1 == b1))\n",
    "\n"
   ]
  },
  {
   "cell_type": "code",
   "execution_count": null,
   "metadata": {},
   "outputs": [],
   "source": [
    "# Dot Product of v"
   ]
  },
  {
   "cell_type": "code",
   "execution_count": null,
   "metadata": {},
   "outputs": [],
   "source": []
  }
 ],
 "metadata": {
  "kernelspec": {
   "display_name": "Python 3",
   "language": "python",
   "name": "python3"
  },
  "language_info": {
   "codemirror_mode": {
    "name": "ipython",
    "version": 3
   },
   "file_extension": ".py",
   "mimetype": "text/x-python",
   "name": "python",
   "nbconvert_exporter": "python",
   "pygments_lexer": "ipython3",
   "version": "3.7.3"
  }
 },
 "nbformat": 4,
 "nbformat_minor": 2
}
