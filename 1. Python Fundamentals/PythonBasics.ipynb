{
 "cells": [
  {
   "cell_type": "markdown",
   "metadata": {},
   "source": [
    "# 5. Variables in Python"
   ]
  },
  {
   "cell_type": "code",
   "execution_count": 1,
   "metadata": {},
   "outputs": [
    {
     "name": "stdout",
     "output_type": "stream",
     "text": [
      "Hello Python!!!\n"
     ]
    }
   ],
   "source": [
    "print(\"Hello Python!!!\")"
   ]
  },
  {
   "cell_type": "markdown",
   "metadata": {},
   "source": [
    "# Variable Declaration"
   ]
  },
  {
   "cell_type": "code",
   "execution_count": 3,
   "metadata": {},
   "outputs": [
    {
     "name": "stdout",
     "output_type": "stream",
     "text": [
      "a + b =  12\n",
      "Address : 8791203025856\n"
     ]
    }
   ],
   "source": [
    "a = 5\n",
    "b = 7\n",
    "print(\"a + b = \", a + b)\n",
    "print(\"Address :\", id(a))"
   ]
  },
  {
   "cell_type": "code",
   "execution_count": 4,
   "metadata": {},
   "outputs": [
    {
     "name": "stdout",
     "output_type": "stream",
     "text": [
      "Python Keywords: ['False', 'None', 'True', 'and', 'as', 'assert', 'async', 'await', 'break', 'class', 'continue', 'def', 'del', 'elif', 'else', 'except', 'finally', 'for', 'from', 'global', 'if', 'import', 'in', 'is', 'lambda', 'nonlocal', 'not', 'or', 'pass', 'raise', 'return', 'try', 'while', 'with', 'yield']\n"
     ]
    }
   ],
   "source": [
    "# Get all keywords\n",
    "import keyword as kw\n",
    "print(\"Python Keywords:\", kw.kwlist )"
   ]
  },
  {
   "cell_type": "code",
   "execution_count": 8,
   "metadata": {},
   "outputs": [
    {
     "name": "stdout",
     "output_type": "stream",
     "text": [
      "<class 'int'>\n",
      "<class 'str'>\n",
      "<class 'int'>\n"
     ]
    }
   ],
   "source": [
    "#type of variable\n",
    "print(type(a))\n",
    "print(type(\"ABCD\"))\n",
    "print(type(id(a)))"
   ]
  },
  {
   "cell_type": "code",
   "execution_count": 9,
   "metadata": {},
   "outputs": [
    {
     "name": "stdout",
     "output_type": "stream",
     "text": [
      "2 3 4\n"
     ]
    }
   ],
   "source": [
    "#multiple assignments in single line\n",
    "p, q, r = 2,3,4\n",
    "print(p,q,r)"
   ]
  },
  {
   "cell_type": "markdown",
   "metadata": {},
   "source": [
    "# 6. Numerical Operations"
   ]
  },
  {
   "cell_type": "code",
   "execution_count": 12,
   "metadata": {},
   "outputs": [
    {
     "name": "stdout",
     "output_type": "stream",
     "text": [
      "35\n",
      "-15\n",
      "250\n",
      "0.4\n",
      "0\n",
      "10\n",
      "95367431640625\n"
     ]
    }
   ],
   "source": [
    "a = 10\n",
    "b = 25\n",
    "print(a + b)\n",
    "print(a - b)\n",
    "print(a * b)\n",
    "print(a / b)\n",
    "print(a // b) #Floor division. will give floor value of division\n",
    "print(a % b)\n",
    "print(b ** a)"
   ]
  },
  {
   "cell_type": "code",
   "execution_count": 14,
   "metadata": {},
   "outputs": [
    {
     "name": "stdout",
     "output_type": "stream",
     "text": [
      "19\n",
      "13\n"
     ]
    }
   ],
   "source": [
    "#Operators\n",
    "a += 9\n",
    "print(a)\n",
    "a -= 6\n",
    "print(a)"
   ]
  },
  {
   "cell_type": "code",
   "execution_count": 16,
   "metadata": {},
   "outputs": [
    {
     "name": "stdout",
     "output_type": "stream",
     "text": [
      "0.6931471805599453\n",
      "4.605170185988092\n"
     ]
    }
   ],
   "source": [
    "import math as m\n",
    "x = 2\n",
    "print(m.log(x))\n",
    "print(m.log(100))"
   ]
  },
  {
   "cell_type": "markdown",
   "metadata": {},
   "source": [
    "# 7. Logical Operations"
   ]
  },
  {
   "cell_type": "code",
   "execution_count": 18,
   "metadata": {},
   "outputs": [
    {
     "name": "stdout",
     "output_type": "stream",
     "text": [
      "True\n",
      "False\n",
      "True\n",
      "True\n",
      "False\n",
      "True\n",
      "<class 'bool'>\n"
     ]
    }
   ],
   "source": [
    "print(3 < 4)\n",
    "print(True and False)\n",
    "print(True or False)\n",
    "print(a != b)\n",
    "print(a == b)\n",
    "print(True and not False)\n",
    "print(type(True))\n"
   ]
  },
  {
   "cell_type": "markdown",
   "metadata": {},
   "source": [
    "# 8. If - Elif - Else  blocks"
   ]
  },
  {
   "cell_type": "code",
   "execution_count": 3,
   "metadata": {},
   "outputs": [
    {
     "name": "stdout",
     "output_type": "stream",
     "text": [
      "Enter any number:-1\n",
      "-1  is negative number.\n"
     ]
    }
   ],
   "source": [
    "num = int(input(\"Enter any number:\"))\n",
    "if num > 0:\n",
    "    print(num, \" is positive number.\")\n",
    "elif num == 0 :\n",
    "    print(\"0 is entered\")\n",
    "else : \n",
    "    print(num, \" is negative number.\")"
   ]
  },
  {
   "cell_type": "markdown",
   "metadata": {},
   "source": [
    "# 9.1 For  Loops"
   ]
  },
  {
   "cell_type": "code",
   "execution_count": 7,
   "metadata": {},
   "outputs": [
    {
     "name": "stdout",
     "output_type": "stream",
     "text": [
      "5\n",
      "7\n",
      "7\n",
      "6\n"
     ]
    }
   ],
   "source": [
    "subjects = [\"Maths\", \"Science\", \"History\", \"Civics\"]\n",
    "\n",
    "for i in range(4):\n",
    "    print(len(subjects[i]))"
   ]
  },
  {
   "cell_type": "code",
   "execution_count": 9,
   "metadata": {},
   "outputs": [
    {
     "name": "stdout",
     "output_type": "stream",
     "text": [
      "1\n",
      "4\n",
      "7\n"
     ]
    }
   ],
   "source": [
    "for i in  range(1,10,3):\n",
    "    print(i)"
   ]
  },
  {
   "cell_type": "code",
   "execution_count": 11,
   "metadata": {},
   "outputs": [
    {
     "name": "stdout",
     "output_type": "stream",
     "text": [
      "* \n",
      "* * \n",
      "* * * \n",
      "* * * * \n",
      "* * * * * \n",
      "* * * * \n",
      "* * * \n",
      "* * \n",
      "* \n"
     ]
    }
   ],
   "source": [
    "str = ''\n",
    "for i in range(0,9):\n",
    "    if i < 5:\n",
    "        str += '* '\n",
    "        print(str)\n",
    "    elif i > 4 :\n",
    "        str = str[:-2]\n",
    "        print(str)\n",
    "        "
   ]
  },
  {
   "cell_type": "markdown",
   "metadata": {},
   "source": [
    "# 9.2 While loop:"
   ]
  },
  {
   "cell_type": "code",
   "execution_count": 1,
   "metadata": {},
   "outputs": [
    {
     "name": "stdout",
     "output_type": "stream",
     "text": [
      "5\n",
      "4\n",
      "3\n",
      "2\n",
      "1\n"
     ]
    }
   ],
   "source": [
    "i = 5\n",
    "while i > 0:\n",
    "    print(i)\n",
    "    i -= 1"
   ]
  },
  {
   "cell_type": "markdown",
   "metadata": {},
   "source": [
    "# 10. Functions"
   ]
  },
  {
   "cell_type": "code",
   "execution_count": 2,
   "metadata": {},
   "outputs": [],
   "source": [
    "#documentation\n",
    "def triple(num):\n",
    "    \"\"\"\n",
    "    Function to triple number\n",
    "    \"\"\"\n",
    "    return 3 * num"
   ]
  },
  {
   "cell_type": "code",
   "execution_count": 5,
   "metadata": {},
   "outputs": [
    {
     "data": {
      "text/plain": [
       "15"
      ]
     },
     "execution_count": 5,
     "metadata": {},
     "output_type": "execute_result"
    }
   ],
   "source": [
    "triple(5)"
   ]
  },
  {
   "cell_type": "code",
   "execution_count": 8,
   "metadata": {},
   "outputs": [
    {
     "name": "stdout",
     "output_type": "stream",
     "text": [
      "\n",
      "    Function to triple number\n",
      "    \n"
     ]
    }
   ],
   "source": [
    "print(triple.__doc__)"
   ]
  },
  {
   "cell_type": "code",
   "execution_count": 11,
   "metadata": {},
   "outputs": [
    {
     "data": {
      "text/plain": [
       "120"
      ]
     },
     "execution_count": 11,
     "metadata": {},
     "output_type": "execute_result"
    }
   ],
   "source": [
    "#factorial\n",
    "def factorial(n):\n",
    "    if n > 1:\n",
    "        return n * factorial(n-1)\n",
    "    else:\n",
    "        return n\n",
    "\n",
    "factorial(5)"
   ]
  },
  {
   "cell_type": "code",
   "execution_count": 13,
   "metadata": {},
   "outputs": [
    {
     "name": "stdout",
     "output_type": "stream",
     "text": [
      "(1, 2, 3, 4, 5)\n"
     ]
    },
    {
     "data": {
      "text/plain": [
       "15"
      ]
     },
     "execution_count": 13,
     "metadata": {},
     "output_type": "execute_result"
    }
   ],
   "source": [
    "#multiple/varargs argument\n",
    "def printAndSumAll(*args):\n",
    "    print(args)\n",
    "    return sum(args)\n",
    "\n",
    "printAndSumAll(1,2,3,4,5)"
   ]
  },
  {
   "cell_type": "code",
   "execution_count": 15,
   "metadata": {},
   "outputs": [
    {
     "name": "stdout",
     "output_type": "stream",
     "text": [
      "['Virat', 'Kohli']\n"
     ]
    },
    {
     "data": {
      "text/plain": [
       "function"
      ]
     },
     "execution_count": 15,
     "metadata": {},
     "output_type": "execute_result"
    }
   ],
   "source": [
    "#Lambda Functions\n",
    "captain = \"Virat Kohli\"\n",
    "str_to_list = lambda x : x.split()\n",
    "print(str_to_list(captain))\n",
    "type(str_to_list)"
   ]
  },
  {
   "cell_type": "code",
   "execution_count": 17,
   "metadata": {},
   "outputs": [
    {
     "data": {
      "text/plain": [
       "24"
      ]
     },
     "execution_count": 17,
     "metadata": {},
     "output_type": "execute_result"
    }
   ],
   "source": [
    "multiply = lambda x,y : x*y\n",
    "multiply(4,6)"
   ]
  },
  {
   "cell_type": "markdown",
   "metadata": {},
   "source": [
    "# 11. String Operations in Python"
   ]
  },
  {
   "cell_type": "code",
   "execution_count": 4,
   "metadata": {},
   "outputs": [
    {
     "name": "stdout",
     "output_type": "stream",
     "text": [
      "6\n",
      "PYTHON\n",
      "python\n",
      "String Operations in Python\n",
      "4\n",
      "Python\n",
      "Hello Python\n",
      "Total Apples are:: 4\n",
      "c[2:] =  pples\n",
      "c[2:5]=  App\n",
      "c[:4]= 4 Ap\n",
      "c[:-3]= 4 App\n",
      "c[0:len(c)-3] = 4 App\n",
      "c[3:-1] = pple\n",
      "num[1::2] 24680\n",
      "num[0::2] 13579\n",
      "num[::2] 13579\n",
      "Replace:: 4 AQQles\n",
      "123456\n",
      "Data Analysis using Numpy\n",
      "I am 20 years old\n"
     ]
    }
   ],
   "source": [
    "x = \"Python\"\n",
    "print(len(x))\n",
    "print(x.upper())\n",
    "print(x.lower())\n",
    "\n",
    "y = \"String Operations in Python     \"\n",
    "print(y.rstrip())\n",
    "\n",
    "#By default rstrip will remove spaces at right. if characters are given as parameter, it will remove those.\n",
    "\n",
    "z= \"4%%\"\n",
    "print(z.rstrip(\"%\"))\n",
    "\n",
    "a = \"   Python\"\n",
    "print(a.lstrip())\n",
    "\n",
    "b = \"  Hello Python   \"\n",
    "print(b.lstrip().rstrip())\n",
    "\n",
    "#Substring\n",
    "c =\"4 Apples\"\n",
    "print(\"Total Apples are::\", c[0])\n",
    "print(\"c[2:] = \", c[2:])\n",
    "print(\"c[2:5]= \", c[2:5])\n",
    "print(\"c[:4]=\", c[:4])  #Similar to c[0:4]\n",
    "print(\"c[:-3]=\",  c[:-3]) #Similar to c[0:len(c)-3]\n",
    "print(\"c[0:len(c)-3] =\" , c[0:len(c)-3])\n",
    "print(\"c[3:-1] =\", c[3:-1])  #similar to c[3:len(c)-1]\n",
    "\n",
    "num = \"1234567890\"\n",
    "print(\"num[1::2]\", num[1::2])  #characters from index 1 with step of 2\n",
    "print(\"num[0::2]\", num[0::2])\n",
    "print(\"num[::2]\", num[::2])    #same as num[0::2]\n",
    "\n",
    "#Replace\n",
    "print(\"Replace::\", c.replace(\"p\", \"Q\"))\n",
    "\n",
    "#Concat\n",
    "print(\"123\" + \"456\")\n",
    "\n",
    "#String Formatting\n",
    "A = \"Data\"\n",
    "B = \"Analysis\"\n",
    "C = \"Numpy\"\n",
    "print(\"{0} {1} using {2}\".format(A,B,C))\n",
    "\n",
    "#str function. similar to toString() in java\n",
    "#if str not used, gives error as:: TypeError: can only concatenate str (not \"int\") to str\n",
    "age = 20\n",
    "msg = \"I am \" + str(age) + \" years old\"\n",
    "print(msg)"
   ]
  },
  {
   "cell_type": "markdown",
   "metadata": {},
   "source": [
    "# 12. Lists in Python"
   ]
  },
  {
   "cell_type": "code",
   "execution_count": 7,
   "metadata": {},
   "outputs": [
    {
     "name": "stdout",
     "output_type": "stream",
     "text": [
      "[]\n"
     ]
    },
    {
     "data": {
      "text/plain": [
       "list"
      ]
     },
     "execution_count": 7,
     "metadata": {},
     "output_type": "execute_result"
    }
   ],
   "source": [
    "#EMpty List\n",
    "l  = []\n",
    "print(l)\n",
    "type(l)"
   ]
  },
  {
   "cell_type": "code",
   "execution_count": 39,
   "metadata": {},
   "outputs": [
    {
     "name": "stdout",
     "output_type": "stream",
     "text": [
      "languages[1]:: Python\n",
      "languages[1:4]:: ['Python', 'Java', 'C']\n",
      "languages[-2]:: Java\n",
      "languages[1:]:: ['Python', 'Java', 'C']\n",
      "languages[:-2]:: ['R', 'Python']\n",
      "['R', 'Python', 'Java', 'C', 'C++', 95]\n",
      "['R', 'Python', 'Java', 'C', 'C++']\n",
      "['R', 'Java', 'C', 'C++']\n",
      "id(languages):: 108101512\n",
      "id(newLangs):: 108099080\n",
      "langsCopy:: ['R', 'Java', 'Python', 'C', 'C++']\n",
      "languages:: ['R', 'Java', 'C', 'C++']\n",
      "['Python', 'is', 'good', 'language', 'for', 'Machine', 'Learning.', 'You', 'should', 'learn', 'it.']\n",
      "['Python is good language for Machine Learning', ' You should learn it', '']\n",
      "Python is good language for Machine Learning. You should learn it.\n",
      "R,Java,Python,C,C++\n",
      "['Python is good language for Machine Learning', ' You should learn it', '', 'R', 'Java', 'Python', 'C', 'C++']\n",
      "len(newLSt):: 8\n",
      "nums[1::2]:: [2, 4, 6, 8, 10]\n",
      "[1, 2, 3, 11, 5, 6, 7, 8, 9, 10]\n",
      "sorted(nums):: [1, 2, 3, 5, 6, 7, 8, 9, 10, 11]\n",
      "max(nums):: 11\n",
      "min(nums):: 1\n",
      "[[1, 2, 3, 4], [5, 6, 7], [8, 9]]\n",
      "lslst[1,2]:: 7\n"
     ]
    }
   ],
   "source": [
    "languages = [\"R\", \"Python\", 'Java', \"C\"]\n",
    "print(\"languages[1]::\", languages[1])\n",
    "\n",
    "#subset of list\n",
    "print(\"languages[1:4]::\", languages[1:4])\n",
    "print(\"languages[-2]::\", languages[-2])\n",
    "print(\"languages[1:]::\", languages[1:])\n",
    "print(\"languages[:-2]::\", languages[:-2])\n",
    "\n",
    "#adding to list\n",
    "languages.append(\"C++\")\n",
    "languages.append(95)   #can add integers too in list\n",
    "print(languages)\n",
    "\n",
    "#Removing elements from list\n",
    "#remove last element from list\n",
    "languages.pop()   #95 gets removed\n",
    "print(languages)\n",
    "\n",
    "#removing element with index\n",
    "languages.pop(1)  #Python gets removed\n",
    "print(languages) \n",
    "\n",
    "#copying new list. as list objects are mutable.\n",
    "newLangs = languages[:]\n",
    "print(\"id(languages)::\", id(languages))\n",
    "print(\"id(newLangs)::\", id(newLangs))\n",
    "\n",
    "langsCopy = languages.copy()\n",
    "langsCopy.insert(2,\"Python\")\n",
    "print(\"langsCopy::\", langsCopy)\n",
    "print(\"languages::\", languages)\n",
    "\n",
    "#Spliting strings will give lists\n",
    "mail = \"Python is good language for Machine Learning. You should learn it.\"\n",
    "words = mail.split()\n",
    "print(words)\n",
    "\n",
    "stmts = mail.split(\".\")\n",
    "print(stmts)\n",
    "\n",
    "#Joining elements in list\n",
    "newStmt = \".\".join(stmts)\n",
    "print(newStmt)\n",
    "\n",
    "newLangs = \",\".join(langsCopy)\n",
    "print(newLangs)\n",
    "\n",
    "#adding lists \n",
    "newLSt = stmts + langsCopy\n",
    "print(newLSt)\n",
    "\n",
    "#size of list\n",
    "print(\"len(newLSt)::\", len(newLSt))\n",
    "\n",
    "#miscellaneous functions\n",
    "nums = [1,2,3,4,5,6,7,8,9,10]\n",
    "print(\"nums[1::2]::\",  nums[1::2])\n",
    "\n",
    "nums[3] = 11\n",
    "print(nums)\n",
    "\n",
    "print(\"sorted(nums)::\", sorted(nums))\n",
    "print(\"max(nums)::\", max(nums))\n",
    "print(\"min(nums)::\", min(nums))\n",
    "\n",
    "#List of Lists\n",
    "lslst = [[1,2,3,4], [5,6,7], [8,9]]\n",
    "print(lslst)\n",
    "print(\"lslst[1][2]::\",lslst[1][2])"
   ]
  },
  {
   "cell_type": "markdown",
   "metadata": {},
   "source": [
    "# 13. Tuples"
   ]
  },
  {
   "cell_type": "code",
   "execution_count": 2,
   "metadata": {},
   "outputs": [],
   "source": [
    "# Tuples are data structures in similar aspect as list but do not allow modifications"
   ]
  },
  {
   "cell_type": "code",
   "execution_count": 15,
   "metadata": {},
   "outputs": [
    {
     "name": "stdout",
     "output_type": "stream",
     "text": [
      "<class 'tuple'>\n",
      "city[0]:: Pune\n"
     ]
    },
    {
     "ename": "TypeError",
     "evalue": "'tuple' object does not support item assignment",
     "output_type": "error",
     "traceback": [
      "\u001b[1;31m---------------------------------------------------------------------------\u001b[0m",
      "\u001b[1;31mTypeError\u001b[0m                                 Traceback (most recent call last)",
      "\u001b[1;32m<ipython-input-15-3a989314ee9b>\u001b[0m in \u001b[0;36m<module>\u001b[1;34m\u001b[0m\n\u001b[0;32m      6\u001b[0m \u001b[1;33m\u001b[0m\u001b[0m\n\u001b[0;32m      7\u001b[0m \u001b[1;31m#this will throw error\u001b[0m\u001b[1;33m\u001b[0m\u001b[1;33m\u001b[0m\u001b[1;33m\u001b[0m\u001b[0m\n\u001b[1;32m----> 8\u001b[1;33m \u001b[0mcity\u001b[0m\u001b[1;33m[\u001b[0m\u001b[1;36m1\u001b[0m\u001b[1;33m]\u001b[0m \u001b[1;33m=\u001b[0m \u001b[1;36m123\u001b[0m\u001b[1;33m\u001b[0m\u001b[1;33m\u001b[0m\u001b[0m\n\u001b[0m",
      "\u001b[1;31mTypeError\u001b[0m: 'tuple' object does not support item assignment"
     ]
    }
   ],
   "source": [
    "city = (\"Pune\", 5.8, 20)\n",
    "print(type(city))\n",
    "\n",
    "#accessing elements in tuple\n",
    "print(\"city[0]::\", city[0])\n",
    "\n",
    "#this will throw error\n",
    "city[1] = 123"
   ]
  },
  {
   "cell_type": "code",
   "execution_count": 16,
   "metadata": {},
   "outputs": [
    {
     "ename": "IndexError",
     "evalue": "tuple index out of range",
     "output_type": "error",
     "traceback": [
      "\u001b[1;31m---------------------------------------------------------------------------\u001b[0m",
      "\u001b[1;31mIndexError\u001b[0m                                Traceback (most recent call last)",
      "\u001b[1;32m<ipython-input-16-491a58bda2c0>\u001b[0m in \u001b[0;36m<module>\u001b[1;34m\u001b[0m\n\u001b[0;32m      1\u001b[0m \u001b[1;31m#this will throw index error\u001b[0m\u001b[1;33m\u001b[0m\u001b[1;33m\u001b[0m\u001b[1;33m\u001b[0m\u001b[0m\n\u001b[1;32m----> 2\u001b[1;33m \u001b[0mprint\u001b[0m\u001b[1;33m(\u001b[0m\u001b[1;34m\"city[3]:\"\u001b[0m\u001b[1;33m,\u001b[0m \u001b[0mcity\u001b[0m\u001b[1;33m[\u001b[0m\u001b[1;36m3\u001b[0m\u001b[1;33m]\u001b[0m\u001b[1;33m)\u001b[0m\u001b[1;33m\u001b[0m\u001b[1;33m\u001b[0m\u001b[0m\n\u001b[0m",
      "\u001b[1;31mIndexError\u001b[0m: tuple index out of range"
     ]
    }
   ],
   "source": [
    "#this will throw index error\n",
    "print(\"city[3]:\", city[3])"
   ]
  },
  {
   "cell_type": "code",
   "execution_count": 21,
   "metadata": {},
   "outputs": [
    {
     "name": "stdout",
     "output_type": "stream",
     "text": [
      "city[:-1]:: ('Pune', 5.8)\n",
      "length of tuple:: 3\n",
      "<class 'tuple'>\n",
      "((123, 5.6, 'Python'), 4, 5, 'Java')\n",
      "new2[0]:: (123, 5.6, 'Python')\n",
      "((123, 5.6, 'Python'), (1, 2, 3, 4, 5))\n",
      "new4::: ([1, 2, 3], [4, 5, 6], [7, 8, 9])\n",
      "modified new4::: ([1, 2, 3], [4, 10, 6], [7, 8, 9])\n",
      "new1Lst:: [123, 5.6, 'Python']\n",
      "new1Tuple:: (123, 5.6, 'Python')\n"
     ]
    }
   ],
   "source": [
    "#subsetting tuples\n",
    "print(\"city[:-1]::\", city[:-1])\n",
    "print(\"length of tuple::\", len(city))\n",
    "\n",
    "#declaring tuple another way\n",
    "new1 = 123, 5.6, \"Python\"\n",
    "print(type(new1))\n",
    "\n",
    "#this will add new1 as tuple element inside new2\n",
    "new2 = new1, 4, 5, \"Java\"\n",
    "print(new2)\n",
    "print(\"new2[0]::\", new2[0])\n",
    "\n",
    "#tuple of tuples \n",
    "new3 = new1, (1,2,3,4,5)\n",
    "print(new3)\n",
    "\n",
    "#tuple of lists\n",
    "new4 = ([1,2,3], [4,5,6], [7,8,9])\n",
    "print(\"new4:::\",new4)\n",
    "\n",
    "#can modify list inside tuple\n",
    "new4[1][1] = 10\n",
    "print(\"modified new4:::\",new4)\n",
    "\n",
    "#converting list into tuple and vice versa\n",
    "new1Lst = list(new1)\n",
    "print(\"new1Lst::\", new1Lst)\n",
    "\n",
    "new1Tuple = tuple(new1Lst)\n",
    "print(\"new1Tuple::\", new1Tuple)"
   ]
  },
  {
   "cell_type": "markdown",
   "metadata": {},
   "source": [
    "# 14. Sets"
   ]
  },
  {
   "cell_type": "code",
   "execution_count": 24,
   "metadata": {},
   "outputs": [
    {
     "name": "stdout",
     "output_type": "stream",
     "text": [
      "gradeSet:: {'C', 'B', 'D', 'A'}\n",
      "<class 'set'>\n"
     ]
    }
   ],
   "source": [
    "studGrads = ['A', 'A', 'B', 'B', 'C', 'C', 'D', 'D']\n",
    "gradeSet = set(studGrads)\n",
    "print(\"gradeSet::\", gradeSet) \n",
    "\n",
    "print(type(gradeSet))"
   ]
  },
  {
   "cell_type": "code",
   "execution_count": 39,
   "metadata": {},
   "outputs": [
    {
     "name": "stdout",
     "output_type": "stream",
     "text": [
      "grads2:: {'G', 'F', 'N', 'A'}\n",
      "gradeSet.intersection(grads2)::: {'A'}\n",
      "gradeSet.union(grads2)::: {'D', 'F', 'N', 'C', 'B', 'A', 'G'}\n",
      "gradeSet.difference(grads2)::: {'C', 'D', 'B'}\n",
      "'A' in grads2:: True\n",
      "'B' in grads2:: False\n",
      "G\n",
      "F\n",
      "N\n",
      "A\n",
      "grads2.issubset(gradeSet):: False\n",
      "grads2.symmetric_difference(gradeSet)::: {'D', 'F', 'N', 'C', 'B', 'G'}\n"
     ]
    },
    {
     "data": {
      "text/plain": [
       "set"
      ]
     },
     "execution_count": 39,
     "metadata": {},
     "output_type": "execute_result"
    }
   ],
   "source": [
    "#Set Operations\n",
    "grads2 = ['A', 'N', 'F', 'N', 'G', 'A']\n",
    "grads2 = set(grads2)\n",
    "print(\"grads2::\", grads2)\n",
    "\n",
    "\n",
    "#Intersection\n",
    "print(\"gradeSet.intersection(grads2):::\", gradeSet.intersection(grads2))\n",
    "\n",
    "#Union\n",
    "print(\"gradeSet.union(grads2):::\", gradeSet.union(grads2))\n",
    "\n",
    "#Difference\n",
    "print(\"gradeSet.difference(grads2):::\", gradeSet.difference(grads2))\n",
    "\n",
    "#element present or not\n",
    "print(\"'A' in grads2::\",'A' in grads2)\n",
    "print(\"'B' in grads2::\",'B' in grads2)\n",
    "\n",
    "#printing all elements in set\n",
    "for gd in grads2:\n",
    "    print(gd)\n",
    "    \n",
    "#set is subset or not    \n",
    "print(\"grads2.issubset(gradeSet)::\", grads2.issubset(gradeSet))\n",
    "\n",
    "#symmetric Difference. Set of elements which are not common in both sets\n",
    "print(\"grads2.symmetric_difference(gradeSet):::\",grads2.symmetric_difference(gradeSet))\n"
   ]
  },
  {
   "cell_type": "markdown",
   "metadata": {},
   "source": [
    "# 15.Dictionary (Key-Value Pairs)"
   ]
  },
  {
   "cell_type": "code",
   "execution_count": 17,
   "metadata": {},
   "outputs": [
    {
     "name": "stdout",
     "output_type": "stream",
     "text": [
      "{'Actor': 'Johny Depp', 'Animal': 'Cat', 'earth': 3, 'list': [1, 2, 3]}\n",
      "dict[\"earth\"]:: 3\n",
      "<class 'dict'>\n",
      "EMpty dictionary:: {}\n",
      "dict.get(\"list\")::: [1, 2, 3]\n",
      "dict.get(1, 'NA'):: NA\n",
      "dict['ABC']:: 123\n",
      "'ABC' in dict:: True\n",
      "dict.keys():: dict_keys(['Actor', 'Animal', 'earth', 'list', 'ABC'])\n",
      "list(dict.keys()):: ['Actor', 'Animal', 'earth', 'list', 'ABC']\n",
      "list(dict.values()):: ['Johny Depp', 'Cat', 3, [1, 2, 3], 123]\n"
     ]
    }
   ],
   "source": [
    "dict = {\"Actor\": \"Johny Depp\", \"Animal\":\"Cat\", \"earth\":3, \"list\":[1,2,3]}\n",
    "print(dict)\n",
    "\n",
    "#accessing elements in dictionary\n",
    "print(\"dict[\\\"earth\\\"]::\",dict[\"earth\"])\n",
    "print(type(dict))\n",
    "\n",
    "print(\"EMpty dictionary::\", {})\n",
    "\n",
    "print(\"dict.get(\\\"list\\\"):::\", dict.get(\"list\"))\n",
    "\n",
    "#Accessing elements in dictionary which is not present\n",
    "print(\"dict.get(1, 'NA')::\", dict.get(1,\"NA\"))\n",
    "\n",
    "#Setting element in dictionry\n",
    "dict[\"ABC\"] = 123\n",
    "print(\"dict['ABC']::\",dict['ABC'])\n",
    "\n",
    "#is element present in dictionary\n",
    "print(\"'ABC' in dict::\", 'ABC' in dict)\n",
    "\n",
    "#printing keys in dictionary\n",
    "print(\"dict.keys()::\", dict.keys())\n",
    "print(\"list(dict.keys())::\", list(dict.keys()))\n",
    "\n",
    "#printing all values in dictionary\n",
    "print(\"list(dict.values())::\", list(dict.values()))"
   ]
  },
  {
   "cell_type": "code",
   "execution_count": 24,
   "metadata": {},
   "outputs": [
    {
     "name": "stdout",
     "output_type": "stream",
     "text": [
      "{'country': 'India', 'Songs': ['Blue Eyes', 'Night Party']}\n",
      "{'Animal': 'Cat', 'earth': 3, 'list': [1, 2, 3], 'ABC': 123, 'country': 'India', 'Songs': ['Blue Eyes', 'Night Party']}\n",
      "len(dict):: 6\n"
     ]
    }
   ],
   "source": [
    "#updating a a dictionary\n",
    "d1 = {'country':\"India\", 'Songs':[\"Blue Eyes\", \"Night Party\"]}\n",
    "print(d1)\n",
    "\n",
    "dict.update(d1)\n",
    "print(dict)\n",
    "\n",
    "#removing element from dictionary\n",
    "del dict['Actor']\n",
    "print(dict)\n"
   ]
  },
  {
   "cell_type": "code",
   "execution_count": 27,
   "metadata": {},
   "outputs": [
    {
     "name": "stdout",
     "output_type": "stream",
     "text": [
      "len(dict):: 6\n",
      "Animal :: Cat\n",
      "earth :: 3\n",
      "list :: [1, 2, 3]\n",
      "ABC :: 123\n",
      "country :: India\n",
      "Songs :: ['Blue Eyes', 'Night Party']\n"
     ]
    }
   ],
   "source": [
    "#size of dictionary\n",
    "print(\"len(dict)::\",len(dict))\n",
    "\n",
    "#iterating dictionary\n",
    "for a,b in dict.items():\n",
    "    print(a, \"::\", b)"
   ]
  },
  {
   "cell_type": "markdown",
   "metadata": {},
   "source": [
    "# 16. Python Comprehensions"
   ]
  },
  {
   "cell_type": "code",
   "execution_count": 28,
   "metadata": {},
   "outputs": [],
   "source": [
    "#python comprehensions are syntactic constructs that enable sequences to be rebuild from another sequences in clear and concise\n",
    "#mode. These comprehensions give performance "
   ]
  },
  {
   "cell_type": "code",
   "execution_count": 32,
   "metadata": {},
   "outputs": [
    {
     "name": "stdout",
     "output_type": "stream",
     "text": [
      "[1, 4, 9, 16, 25, 36, 49, 64, 81]\n",
      "[1, 4, 9, 16, 25, 36, 49, 64, 81]\n"
     ]
    }
   ],
   "source": [
    "squares_list = []\n",
    "\n",
    "for x in range(1,10):\n",
    "    squares_list.append(x ** 2 )\n",
    "\n",
    "print (squares_list)\n",
    "\n",
    "#Another way using comprehensions:\n",
    "squares_list2 = [x **2 for x in range(1,10)]\n",
    "print(squares_list2)"
   ]
  },
  {
   "cell_type": "code",
   "execution_count": 36,
   "metadata": {},
   "outputs": [
    {
     "name": "stdout",
     "output_type": "stream",
     "text": [
      "['The', 'Quick', 'Brown', 'Fox', 'Jumps', 'Over', 'Lazy', 'Dog', 'And', 'Ran', 'into', 'Jungle']\n",
      "['The', 'Quick', 'Brown', 'Fox', 'Jumps', 'Over', 'Lazy', 'Dog', 'And', 'Ran', 'into', 'Jungle']\n"
     ]
    }
   ],
   "source": [
    "para = ['The Quick Brown Fox', \"Jumps Over Lazy Dog\", 'And Ran into Jungle']\n",
    "word_list = []\n",
    "\n",
    "for stmt in para:\n",
    "    for word in stmt.split():\n",
    "        word_list.append(word)\n",
    "\n",
    "print(word_list)    \n",
    "\n",
    "#Another way using comprehensions:\n",
    "word_list2 = [word for stmt in para for word in stmt.split()]\n",
    "print(word_list2)"
   ]
  },
  {
   "cell_type": "code",
   "execution_count": 38,
   "metadata": {},
   "outputs": [
    {
     "name": "stdout",
     "output_type": "stream",
     "text": [
      "{1: 1, 2: 4, 3: 9, 4: 16, 5: 25, 6: 36, 7: 49, 8: 64, 9: 81}\n"
     ]
    }
   ],
   "source": [
    "squared_map = {num : num **2 for num in range(1,10)}\n",
    "print(squared_map)"
   ]
  },
  {
   "cell_type": "code",
   "execution_count": 41,
   "metadata": {},
   "outputs": [
    {
     "name": "stdout",
     "output_type": "stream",
     "text": [
      "{2: 'Om', 4: 'RD'}\n",
      "{2: 'Om', 4: 'RD'}\n"
     ]
    }
   ],
   "source": [
    "students = {1:{\"Shiva\", 25}, 2:[\"Om\", 30], 3:[\"KD\", 28], 4:[\"RD\", 27]}\n",
    "\n",
    "rollno_names = {}\n",
    "\n",
    "for rollno, details in students.items():\n",
    "    if rollno % 2 == 0:\n",
    "        rollno_names[rollno] = details[0]\n",
    "        \n",
    "print(rollno_names)\n",
    "\n",
    "#Another way using comprehensions:\n",
    "rollno_names2 = {rollno:details[0] for rollno, details in students.items() if rollno %2 ==  0}\n",
    "print(rollno_names2)"
   ]
  }
 ],
 "metadata": {
  "kernelspec": {
   "display_name": "Python 3",
   "language": "python",
   "name": "python3"
  },
  "language_info": {
   "codemirror_mode": {
    "name": "ipython",
    "version": 3
   },
   "file_extension": ".py",
   "mimetype": "text/x-python",
   "name": "python",
   "nbconvert_exporter": "python",
   "pygments_lexer": "ipython3",
   "version": "3.7.3"
  }
 },
 "nbformat": 4,
 "nbformat_minor": 2
}
