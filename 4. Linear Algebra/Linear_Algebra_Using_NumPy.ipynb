{
 "cells": [
  {
   "cell_type": "code",
   "execution_count": 1,
   "metadata": {},
   "outputs": [],
   "source": [
    "# 4. Linear Algebra"
   ]
  },
  {
   "cell_type": "code",
   "execution_count": 6,
   "metadata": {},
   "outputs": [],
   "source": [
    "import numpy as np"
   ]
  },
  {
   "cell_type": "markdown",
   "metadata": {},
   "source": [
    "# Vector Products"
   ]
  },
  {
   "cell_type": "code",
   "execution_count": 7,
   "metadata": {},
   "outputs": [
    {
     "name": "stdout",
     "output_type": "stream",
     "text": [
      "Dot Product:  38\n",
      "Cross Product:  [-4  8 -4]\n"
     ]
    }
   ],
   "source": [
    "#Vector Products\n",
    "a = np.array([1,2,3])\n",
    "b = np.array([5,6,7])\n",
    "\n",
    "#1*5 + 2*6 + 3*7\n",
    "print(\"Dot Product: \", np.dot(a, b))\n",
    "\n",
    "# (2*7 - 3*6) - (1*7 -3*5) + 1*6-2*5\n",
    "print(\"Cross Product: \", np.cross(a, b))"
   ]
  },
  {
   "cell_type": "markdown",
   "metadata": {},
   "source": [
    "# Matrix "
   ]
  },
  {
   "cell_type": "code",
   "execution_count": 9,
   "metadata": {},
   "outputs": [
    {
     "name": "stdout",
     "output_type": "stream",
     "text": [
      "Matrix:: \n",
      " [[1 2 3 4]\n",
      " [5 6 7 8]\n",
      " [2 3 4 5]\n",
      " [6 7 8 9]]\n"
     ]
    },
    {
     "data": {
      "text/plain": [
       "(4, 4)"
      ]
     },
     "execution_count": 9,
     "metadata": {},
     "output_type": "execute_result"
    }
   ],
   "source": [
    "# Matrix \n",
    "m1 = np.matrix([[1,2,3,4], [5,6,7,8], [2,3,4,5], [6,7,8,9]])\n",
    "print('Matrix:: \\n',m1)\n",
    "m1.shape"
   ]
  },
  {
   "cell_type": "markdown",
   "metadata": {},
   "source": [
    "# Matrix Multiplication"
   ]
  },
  {
   "cell_type": "code",
   "execution_count": 15,
   "metadata": {},
   "outputs": [
    {
     "name": "stdout",
     "output_type": "stream",
     "text": [
      "Matrix m1: \n",
      " [[1 4 5]\n",
      " [2 4 3]\n",
      " [5 6 8]]\n",
      "Matrix m2: \n",
      " [[2]\n",
      " [4]\n",
      " [5]]\n",
      "m1 * m2=\n",
      " [[43]\n",
      " [35]\n",
      " [74]]\n"
     ]
    }
   ],
   "source": [
    "m1 = np.matrix([[1,4,5], [2,4,3], [5,6,8]])\n",
    "print(\"Matrix m1: \\n\",m1)\n",
    "\n",
    "m2 = np.matrix([[2], [4], [5]])\n",
    "print(\"Matrix m2: \\n\",m2)\n",
    "\n",
    "print('m1 * m2=\\n', m1 * m2)"
   ]
  },
  {
   "cell_type": "markdown",
   "metadata": {},
   "source": [
    "# Rank Of Matrix"
   ]
  },
  {
   "cell_type": "code",
   "execution_count": 16,
   "metadata": {},
   "outputs": [],
   "source": [
    "# Rank of matrix \n",
    "# The rank of a matrix is defined as (a) the maximum number of linearly independent column vectors in the matrix \n",
    "# or (b) the maximum number of linearly independent row vectors in the matrix.\n",
    "# https://stattrek.com/matrix-algebra/matrix-rank.aspx\n",
    "\n",
    "# For Machine Learning, it is always preferred to have most linearly independent vectors.\n",
    "# Linearly dependent column is the column which can be identified as function between 2 or more columns.\n",
    "# then this column is not considered in rank."
   ]
  },
  {
   "cell_type": "code",
   "execution_count": 21,
   "metadata": {},
   "outputs": [
    {
     "name": "stdout",
     "output_type": "stream",
     "text": [
      "m3: \n",
      " [[1 3 1]\n",
      " [2 2 1]\n",
      " [3 5 3]]\n",
      "Rank of m3 is:\n",
      " la.matrix_rank(m3):: 3\n"
     ]
    }
   ],
   "source": [
    "from numpy import linalg as la\n",
    "\n",
    "m3 = np.matrix([[1,3,1], [2,2,1], [3,5,3]])\n",
    "print(\"m3: \\n\", m3)\n",
    "print(\"Rank of m3 is:\\n\", \"la.matrix_rank(m3)::\" , la.matrix_rank(m3))"
   ]
  },
  {
   "cell_type": "markdown",
   "metadata": {},
   "source": [
    "# Determinent of Matrix"
   ]
  },
  {
   "cell_type": "code",
   "execution_count": 25,
   "metadata": {},
   "outputs": [],
   "source": [
    "# A = [[a,b][c,d]]\n",
    "# then det(A) = a*d - b*c\n",
    "\n",
    "# B = [a, b, c]\n",
    "#     [d, e, f]\n",
    "#     [g, h, i]\n",
    "# then det(B) = a * det([[e,f], [h,i]]) - b * det([[d,f], [g,i]]) + c*det([[d,e], [g,h]])\n",
    "#             = a * (ei-fh) - b * (di - fg) + c * (dh - eg) "
   ]
  },
  {
   "cell_type": "markdown",
   "metadata": {},
   "source": [
    "# Inverse of Matrix"
   ]
  },
  {
   "cell_type": "code",
   "execution_count": 24,
   "metadata": {},
   "outputs": [],
   "source": [
    "\n",
    "# A  * A^-1 = I (i.e. Identity Matrix)\n",
    "\n",
    "#\"\"\" \n",
    "#    | a  b | ^-1         1/(ad-bc)| d  -b | \n",
    "#    | c  d |         =            |-c   a |\n",
    "#\"\"\"\n",
    "\n",
    "# 1. Inverse of matrix only exists if all of columns are linearly independent.\n",
    "# 2. Inverse of matrix only exists if no element in diagonal is 0.\n",
    "# [A * B]^-1 = B^-1 * A^-1\n",
    "# [A * B * C * D]^-1 = D ^-1 * C^-1 * B^-1 * A^-1"
   ]
  },
  {
   "cell_type": "code",
   "execution_count": null,
   "metadata": {},
   "outputs": [],
   "source": []
  },
  {
   "cell_type": "code",
   "execution_count": null,
   "metadata": {},
   "outputs": [],
   "source": []
  }
 ],
 "metadata": {
  "kernelspec": {
   "display_name": "Python 3",
   "language": "python",
   "name": "python3"
  },
  "language_info": {
   "codemirror_mode": {
    "name": "ipython",
    "version": 3
   },
   "file_extension": ".py",
   "mimetype": "text/x-python",
   "name": "python",
   "nbconvert_exporter": "python",
   "pygments_lexer": "ipython3",
   "version": "3.7.3"
  }
 },
 "nbformat": 4,
 "nbformat_minor": 2
}
